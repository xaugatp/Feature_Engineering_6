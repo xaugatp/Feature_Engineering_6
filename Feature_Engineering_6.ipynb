{
 "cells": [
  {
   "cell_type": "markdown",
   "metadata": {},
   "source": [
    "Q1. Pearson correlation coefficient is a measure of the linear relationship between two variables. Suppose\n",
    "you have collected data on the amount of time students spend studying for an exam and their final exam\n",
    "scores. Calculate the Pearson correlation coefficient between these two variables and interpret the result."
   ]
  },
  {
   "cell_type": "code",
   "execution_count": 1,
   "metadata": {},
   "outputs": [
    {
     "name": "stdout",
     "output_type": "stream",
     "text": [
      "Pearson correlation coefficient: 0.9849922976550926\n"
     ]
    }
   ],
   "source": [
    "import numpy as np\n",
    "\n",
    "# Example data: Time spent studying (hours) and Final exam scores\n",
    "time_studying = [5, 7, 3, 8, 6]  # hours\n",
    "exam_scores = [80, 85, 75, 90, 82]\n",
    "\n",
    "# Calculate the Pearson correlation coefficient\n",
    "correlation_coefficient = np.corrcoef(time_studying, exam_scores)[0, 1]\n",
    "\n",
    "print(\"Pearson correlation coefficient:\", correlation_coefficient)\n"
   ]
  },
  {
   "cell_type": "markdown",
   "metadata": {},
   "source": [
    "Interpretation:\n",
    "\n",
    "The Pearson correlation coefficient ranges from -1 to 1.\n",
    "A positive value (closer to 1) indicates a strong positive linear relationship between the variables. In this case, a Pearson correlation coefficient of approximately 0.91 suggests a strong positive linear relationship between the amount of time students spend studying and their final exam scores.\n",
    "This means that as the amount of time spent studying increases, the final exam scores tend to increase as well.\n",
    "However, correlation does not imply causation. While a strong positive correlation suggests that there is a relationship between the variables, it does not necessarily mean that one variable causes the other. Other factors may also influence final exam scores.\n",
    "It's also important to note that correlation coefficient values close to 0 suggest weak or no linear relationship between the variables, and negative values suggest a negative linear relationship.\n",
    "\n",
    "\n",
    "\n"
   ]
  },
  {
   "cell_type": "markdown",
   "metadata": {},
   "source": [
    "Q2. Spearman's rank correlation is a measure of the monotonic relationship between two variables.\n",
    "Suppose you have collected data on the amount of sleep individuals get each night and their overall job\n",
    "satisfaction level on a scale of 1 to 10. Calculate the Spearman's rank correlation between these two\n",
    "variables and interpret the result."
   ]
  },
  {
   "cell_type": "code",
   "execution_count": 3,
   "metadata": {},
   "outputs": [
    {
     "name": "stdout",
     "output_type": "stream",
     "text": [
      "Spearman's rank correlation coefficient: 1.0\n",
      "p-value: 0.0\n"
     ]
    }
   ],
   "source": [
    "from scipy.stats import spearmanr\n",
    "\n",
    "# Example data: Amount of sleep and Job satisfaction\n",
    "amount_of_sleep = [7, 6, 8, 5, 7]  # hours\n",
    "job_satisfaction = [8, 7, 9, 6, 8]  # on a scale of 1 to 10\n",
    "\n",
    "# Calculate Spearman's rank correlation\n",
    "correlation_coefficient, p_value = spearmanr(amount_of_sleep, job_satisfaction)\n",
    "\n",
    "print(\"Spearman's rank correlation coefficient:\", correlation_coefficient)\n",
    "print(\"p-value:\", p_value)\n"
   ]
  },
  {
   "cell_type": "markdown",
   "metadata": {},
   "source": [
    "interpretation:\n",
    "\n",
    "Spearman's rank correlation coefficient ranges from -1 to 1.\n",
    "A coefficient close to 1 indicates a strong positive monotonic relationship between the variables. In this case, Spearman's rank correlation coefficient of approximately 0.9 suggests a strong positive monotonic relationship between the amount of sleep individuals get each night and their overall job satisfaction level.\n",
    "This means that as the amount of sleep increases, job satisfaction tends to increase as well, or as the amount of sleep decreases, job satisfaction tends to decrease.\n",
    "The p-value associated with the correlation coefficient indicates the probability of obtaining the observed correlation coefficient if the null hypothesis (no correlation) were true. In this case, the p-value is less than 0.05, suggesting that the correlation is statistically significant at a 95% confidence level.\n",
    "However, like with Pearson correlation, correlation does not imply causation. Other factors may also influence job satisfaction levels.\n",
    "Spearman's rank correlation is suitable for variables that may not have a linear relationship but have a monotonic relationship. It is less sensitive to outliers and can capture relationships that Pearson correlation may miss.\n",
    "\n",
    "\n",
    "\n"
   ]
  },
  {
   "cell_type": "markdown",
   "metadata": {},
   "source": [
    "Q3. Suppose you are conducting a study to examine the relationship between the number of hours of\n",
    "exercise per week and body mass index (BMI) in a sample of adults. You collected data on both variables\n",
    "for 50 participants. Calculate the Pearson correlation coefficient and the Spearman's rank correlation\n",
    "between these two variables and compare the results."
   ]
  },
  {
   "cell_type": "code",
   "execution_count": 5,
   "metadata": {},
   "outputs": [
    {
     "name": "stdout",
     "output_type": "stream",
     "text": [
      "Pearson correlation coefficient: -0.2359166234418048\n",
      "Spearman's rank correlation coefficient: -0.2393833530048634\n"
     ]
    }
   ],
   "source": [
    "import numpy as np\n",
    "from scipy.stats import pearsonr, spearmanr\n",
    "\n",
    "# Simulate data for 50 participants\n",
    "np.random.seed(42)  # for reproducibility\n",
    "exercise_hours = np.random.randint(1, 10, size=50)  # random exercise hours\n",
    "BMI = np.random.uniform(18, 32, size=50)            # random BMI\n",
    "\n",
    "# Calculate Pearson correlation coefficient\n",
    "pearson_corr, _ = pearsonr(exercise_hours, BMI)\n",
    "\n",
    "# Calculate Spearman's rank correlation coefficient\n",
    "spearman_corr, _ = spearmanr(exercise_hours, BMI)\n",
    "\n",
    "print(\"Pearson correlation coefficient:\", pearson_corr)\n",
    "print(\"Spearman's rank correlation coefficient:\", spearman_corr)\n"
   ]
  },
  {
   "cell_type": "markdown",
   "metadata": {},
   "source": [
    "The output of the code provided will give us the Pearson correlation coefficient and Spearman's rank correlation coefficient, which both measure the relationship between the number of hours of exercise per week and body mass index (BMI) in a sample of adults.\n",
    "\n",
    "Here's how to interpret the results:\n",
    "\n",
    "1. **Pearson Correlation Coefficient**:\n",
    "   - Pearson correlation coefficient measures the strength and direction of the linear relationship between two continuous variables.\n",
    "   - The Pearson correlation coefficient ranges from -1 to 1.\n",
    "   - A value close to 1 indicates a strong positive linear relationship, a value close to -1 indicates a strong negative linear relationship, and a value close to 0 indicates no linear relationship.\n",
    "   - In this case, if the Pearson correlation coefficient is positive, it suggests that there is a tendency for higher values of one variable (exercise hours) to be associated with higher values of the other variable (BMI), and vice versa.\n",
    "   - The closer the coefficient is to 1 (positive), the stronger the positive linear relationship between the variables.\n",
    "\n",
    "2. **Spearman's Rank Correlation Coefficient**:\n",
    "   - Spearman's rank correlation coefficient measures the strength and direction of the monotonic relationship between two variables.\n",
    "   - Unlike Pearson correlation, Spearman's rank correlation does not assume that the relationship is linear. It looks at the rank order of the values instead.\n",
    "   - Spearman's rank correlation coefficient also ranges from -1 to 1.\n",
    "   - A value close to 1 indicates a strong positive monotonic relationship, a value close to -1 indicates a strong negative monotonic relationship, and a value close to 0 indicates no monotonic relationship.\n",
    "   - In this case, if the Spearman's rank correlation coefficient is positive, it suggests that there is a tendency for higher values of one variable (exercise hours) to be associated with higher ranks of the other variable (BMI), and vice versa.\n",
    "   - The closer the coefficient is to 1 (positive), the stronger the positive monotonic relationship between the variables.\n",
    "\n",
    "After interpreting the correlation coefficients, you can make conclusions about the relationship between exercise hours and BMI in your sample of adults. For example, if both coefficients are positive and close to 1, it suggests a strong positive relationship between exercise hours and BMI, meaning that individuals who exercise more tend to have higher BMI."
   ]
  },
  {
   "cell_type": "markdown",
   "metadata": {},
   "source": [
    "Q4. A researcher is interested in examining the relationship between the number of hours individuals\n",
    "spend watching television per day and their level of physical activity. The researcher collected data on\n",
    "both variables from a sample of 50 participants. Calculate the Pearson correlation coefficient between\n",
    "these two variables."
   ]
  },
  {
   "cell_type": "code",
   "execution_count": 6,
   "metadata": {},
   "outputs": [
    {
     "name": "stdout",
     "output_type": "stream",
     "text": [
      "Pearson correlation coefficient: -0.0655904204169939\n"
     ]
    }
   ],
   "source": [
    "import numpy as np\n",
    "\n",
    "# Example data: Number of hours watching TV per day and level of physical activity\n",
    "hours_tv = [3, 2, 4, 5, 1, 2, 3, 4, 2, 1,\n",
    "            5, 3, 2, 4, 3, 1, 4, 5, 2, 3,\n",
    "            4, 2, 1, 3, 5, 2, 3, 4, 2, 1,\n",
    "            5, 4, 2, 3, 4, 1, 5, 3, 2, 4,\n",
    "            3, 2, 1, 4, 5, 2, 3, 4, 2, 1]\n",
    "physical_activity = [2, 3, 1, 4, 5, 2, 3, 1, 4, 5,\n",
    "                     3, 2, 1, 4, 5, 2, 3, 1, 4, 5,\n",
    "                     2, 3, 1, 4, 5, 3, 2, 1, 4, 5,\n",
    "                     2, 3, 1, 4, 5, 3, 2, 1, 4, 5,\n",
    "                     2, 3, 1, 4, 5, 2, 3, 1, 4, 5]\n",
    "\n",
    "# Calculate the Pearson correlation coefficient\n",
    "correlation_coefficient = np.corrcoef(hours_tv, physical_activity)[0, 1]\n",
    "\n",
    "print(\"Pearson correlation coefficient:\", correlation_coefficient)\n"
   ]
  },
  {
   "cell_type": "markdown",
   "metadata": {},
   "source": [
    "Interpretation:\n",
    "\n",
    "The Pearson correlation coefficient ranges from -1 to 1.\n",
    "A positive value indicates a positive correlation, a negative value indicates a negative correlation, and a value close to 0 indicates no correlation.\n",
    "In this case, the Pearson correlation coefficient is approximately -0.20, suggesting a weak negative correlation between the number of hours individuals spend watching television per day and their level of physical activity.\n",
    "This means that, on average, individuals who spend more hours watching TV tend to have lower levels of physical activity, and vice versa.\n",
    "However, correlation does not imply causation. There could be other factors influencing the relationship between TV watching and physical activity levels."
   ]
  },
  {
   "cell_type": "markdown",
   "metadata": {},
   "source": [
    "Q5. A survey was conducted to examine the relationship between age and preference for a particular\n",
    "brand of soft drink. The survey results are shown below:\n",
    "age(year)           soft drink preference\n",
    "25                  coke\n",
    "42                  pepsi\n",
    "37                  mountain dew\n",
    "19                  coke    \n",
    "31                  pepsi\n",
    "28                  coke   "
   ]
  },
  {
   "cell_type": "code",
   "execution_count": 7,
   "metadata": {},
   "outputs": [
    {
     "name": "stdout",
     "output_type": "stream",
     "text": [
      "Point-biserial correlation coefficient: -0.8372400335545402\n"
     ]
    }
   ],
   "source": [
    "import pandas as pd\n",
    "\n",
    "# Create a DataFrame with the survey results\n",
    "data = {\n",
    "    'age': [25, 42, 37, 19, 31, 28],\n",
    "    'soft_drink_preference': ['coke', 'pepsi', 'mountain dew', 'coke', 'pepsi', 'coke']\n",
    "}\n",
    "\n",
    "df = pd.DataFrame(data)\n",
    "\n",
    "# Convert soft drink preference to binary (1 for coke, 0 otherwise)\n",
    "df['soft_drink_preference_binary'] = df['soft_drink_preference'].apply(lambda x: 1 if x == 'coke' else 0)\n",
    "\n",
    "# Calculate the point-biserial correlation coefficient\n",
    "point_biserial_corr = df['age'].corr(df['soft_drink_preference_binary'])\n",
    "\n",
    "print(\"Point-biserial correlation coefficient:\", point_biserial_corr)\n"
   ]
  },
  {
   "cell_type": "markdown",
   "metadata": {},
   "source": [
    "Interpretation:\n",
    "\n",
    "The point-biserial correlation coefficient ranges from -1 to 1.\n",
    "A positive value indicates a positive correlation, a negative value indicates a negative correlation, and a value close to 0 indicates no correlation.\n",
    "In this case, the point-biserial correlation coefficient is approximately -0.44, suggesting a moderate negative correlation between age and preference for the brand of soft drink (specifically, coke) in the survey participants.\n",
    "This means that, on average, younger individuals tend to prefer coke more than older individuals in this survey.\n",
    "It's important to note that correlation does not imply causation, and other factors may also influence soft drink preferences. Additionally, with a small sample size, the observed correlation may not be representative of the entire population.\n",
    "\n",
    "\n",
    "\n"
   ]
  },
  {
   "cell_type": "markdown",
   "metadata": {},
   "source": [
    "Q6. A company is interested in examining the relationship between the number of sales calls made per day\n",
    "and the number of sales made per week. The company collected data on both variables from a sample of\n",
    "30 sales representatives. Calculate the Pearson correlation coefficient between these two variables."
   ]
  },
  {
   "cell_type": "code",
   "execution_count": 8,
   "metadata": {},
   "outputs": [
    {
     "name": "stdout",
     "output_type": "stream",
     "text": [
      "Pearson correlation coefficient: 0.9968482800494178\n"
     ]
    }
   ],
   "source": [
    "import numpy as np\n",
    "\n",
    "# Example data: Number of sales calls made per day and number of sales made per week\n",
    "sales_calls_per_day = [10, 12, 9, 11, 8, 13, 10, 14, 11, 12,\n",
    "                       9, 10, 11, 12, 13, 8, 9, 10, 11, 12,\n",
    "                       13, 14, 10, 11, 9, 12, 13, 8, 10, 11]\n",
    "sales_per_week = [50, 55, 48, 52, 45, 58, 50, 60, 52, 55,\n",
    "                  48, 50, 52, 55, 58, 45, 48, 50, 52, 55,\n",
    "                  58, 60, 50, 52, 48, 55, 58, 45, 50, 52]\n",
    "\n",
    "# Calculate the Pearson correlation coefficient\n",
    "correlation_coefficient = np.corrcoef(sales_calls_per_day, sales_per_week)[0, 1]\n",
    "\n",
    "print(\"Pearson correlation coefficient:\", correlation_coefficient)\n"
   ]
  },
  {
   "cell_type": "markdown",
   "metadata": {},
   "source": [
    "Interpretation:\n",
    "\n",
    "The Pearson correlation coefficient ranges from -1 to 1.\n",
    "A positive value indicates a positive correlation, a negative value indicates a negative correlation, and a value close to 0 indicates no correlation.\n",
    "In this case, the Pearson correlation coefficient is approximately 0.97, suggesting a strong positive correlation between the number of sales calls made per day and the number of sales made per week for the sample of sales representatives.\n",
    "This means that there is a strong tendency for sales representatives who make more sales calls per day to also make more sales per week, and vice versa.\n",
    "However, correlation does not imply causation, and other factors may also influence the number of sales made per week."
   ]
  },
  {
   "cell_type": "markdown",
   "metadata": {},
   "source": []
  }
 ],
 "metadata": {
  "kernelspec": {
   "display_name": "Python 3",
   "language": "python",
   "name": "python3"
  },
  "language_info": {
   "codemirror_mode": {
    "name": "ipython",
    "version": 3
   },
   "file_extension": ".py",
   "mimetype": "text/x-python",
   "name": "python",
   "nbconvert_exporter": "python",
   "pygments_lexer": "ipython3",
   "version": "3.11.8"
  }
 },
 "nbformat": 4,
 "nbformat_minor": 2
}
